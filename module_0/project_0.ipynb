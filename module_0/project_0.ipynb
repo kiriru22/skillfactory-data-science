{
 "cells": [
  {
   "cell_type": "code",
   "execution_count": 3,
   "metadata": {},
   "outputs": [
    {
     "name": "stdout",
     "output_type": "stream",
     "text": [
      "Ваш алгоритм угадывает число в среднем за 5 попыток\n"
     ]
    },
    {
     "data": {
      "text/plain": [
       "5"
      ]
     },
     "execution_count": 3,
     "metadata": {},
     "output_type": "execute_result"
    }
   ],
   "source": [
    "import numpy as np\n",
    "\n",
    "def game_core_v1(number):                             # Принимает угадываемое число\n",
    "                                                      # возвращает число изпользываных попыток для нахождения числа\n",
    "    first = 1                                         # -первое число  из заданного диапозона\n",
    "    last = 100                                        # -последнее число диапозона\n",
    "    count = 0\n",
    "    predicted = 0\n",
    "    \n",
    "    while predicted != number:                        # находит число стояще по середине, сравнивает его с угадываемым\n",
    "        predicted = (first + last) //2                # в зависимости от '<' или '>' каждый раз убирает половину диапозона       \n",
    "        count += 1                                    # пока не останется угадываемое число\n",
    "                                                      \n",
    "        if predicted == number:                      \n",
    "            return count\n",
    "        \n",
    "        elif predicted < number:                    \n",
    "            first = predicted + 1\n",
    "            \n",
    "        elif predicted > number:\n",
    "            last = predicted - 1\n",
    "            \n",
    "def game_score(game_core):                  # принимает функцию, которая угадывает число                   \n",
    "                                            # запускает функцию 1000 раз,сохраняя число исользываных попыток для каждой игры                                         \n",
    "    count_ls = []                           # возвращает среднее значения за все игры и выводит его на экран             \n",
    "    np.random.seed(1)\n",
    "    random_array = np.random.randint(1, 101, size=1000)\n",
    "    \n",
    "    for number in random_array:\n",
    "        count_ls.append(game_core(number))\n",
    "        \n",
    "    score = int(np.mean(count_ls))\n",
    "    print(f\"Ваш алгоритм угадывает число в среднем за {score} попыток\")\n",
    "    \n",
    "    return score\n",
    "    \n",
    "game_score(game_core_v1)\n"
   ]
  }
 ],
 "metadata": {
  "kernelspec": {
   "display_name": "Python 3",
   "language": "python",
   "name": "python3"
  },
  "language_info": {
   "codemirror_mode": {
    "name": "ipython",
    "version": 3
   },
   "file_extension": ".py",
   "mimetype": "text/x-python",
   "name": "python",
   "nbconvert_exporter": "python",
   "pygments_lexer": "ipython3",
   "version": "3.8.5"
  }
 },
 "nbformat": 4,
 "nbformat_minor": 4
}
